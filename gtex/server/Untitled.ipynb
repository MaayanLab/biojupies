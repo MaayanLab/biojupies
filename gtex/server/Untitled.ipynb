{
 "cells": [
  {
   "cell_type": "code",
   "execution_count": 1,
   "metadata": {},
   "outputs": [
    {
     "data": {
      "text/plain": [
       "'/Users/denis/Documents/Projects/jupyter-notebook/notebook-generator/gtex/server'"
      ]
     },
     "execution_count": 1,
     "metadata": {},
     "output_type": "execute_result"
    }
   ],
   "source": [
    "%pwd"
   ]
  },
  {
   "cell_type": "code",
   "execution_count": 2,
   "metadata": {},
   "outputs": [
    {
     "name": "stdout",
     "output_type": "stream",
     "text": [
      "Dockerfile      \u001b[34mapp\u001b[m\u001b[m/            run.py\r\n",
      "Untitled.ipynb  boot.sh         wsgi.py\r\n"
     ]
    }
   ],
   "source": [
    "%ls"
   ]
  },
  {
   "cell_type": "code",
   "execution_count": 26,
   "metadata": {},
   "outputs": [],
   "source": [
    "import os, h5py\n",
    "import pandas as pd\n",
    "import pymysql\n",
    "pymysql.install_as_MySQLdb()"
   ]
  },
  {
   "cell_type": "code",
   "execution_count": 27,
   "metadata": {
    "collapsed": true
   },
   "outputs": [],
   "source": [
    "from sqlalchemy import create_engine"
   ]
  },
  {
   "cell_type": "code",
   "execution_count": 34,
   "metadata": {},
   "outputs": [
    {
     "name": "stdout",
     "output_type": "stream",
     "text": [
      "11688\n"
     ]
    }
   ],
   "source": [
    "gtex_samples = pd.read_sql_table('gtex_metadata', create_engine(os.environ['SQLALCHEMY_DATABASE_URI'])).SAMPID.unique()\n",
    "print(len(gtex_samples))"
   ]
  },
  {
   "cell_type": "code",
   "execution_count": 31,
   "metadata": {},
   "outputs": [
    {
     "data": {
      "text/plain": [
       "11688"
      ]
     },
     "execution_count": 31,
     "metadata": {},
     "output_type": "execute_result"
    }
   ],
   "source": [
    "len(f['meta']['sample']['SAMPID'])"
   ]
  },
  {
   "cell_type": "code",
   "execution_count": 36,
   "metadata": {
    "collapsed": true
   },
   "outputs": [],
   "source": [
    "samples = [\"GTEX-14BIM-0011-R6b-SM-5S2VB\", \"GTEX-14JG1-0526-SM-6LLHW\", \"GTEX-1B97I-1526-SM-73KUK\", \"GTEX-1B97I-1526-SM-73KUK\", \"GTEX-16XZY-0426-SM-793BI\", \"GTEX-1CB4H-0126-SM-7IGN2\"]"
   ]
  },
  {
   "cell_type": "code",
   "execution_count": 38,
   "metadata": {},
   "outputs": [
    {
     "data": {
      "text/plain": [
       "[0, 1, 2, 3, 4]"
      ]
     },
     "execution_count": 38,
     "metadata": {},
     "output_type": "execute_result"
    }
   ],
   "source": [
    " [index for index, sample in enumerate(f['meta']['sample']['SAMPID']) if sample in samples]"
   ]
  },
  {
   "cell_type": "code",
   "execution_count": 37,
   "metadata": {},
   "outputs": [
    {
     "data": {
      "text/plain": [
       "[True, True, True, True, True, True]"
      ]
     },
     "execution_count": 37,
     "metadata": {},
     "output_type": "execute_result"
    }
   ],
   "source": [
    "[x in f['meta']['sample']['SAMPID'] for x in samples]"
   ]
  },
  {
   "cell_type": "code",
   "execution_count": null,
   "metadata": {
    "collapsed": true
   },
   "outputs": [],
   "source": [
    "[x in f['meta']['sample']['SAMPID'] for x in samples]"
   ]
  },
  {
   "cell_type": "code",
   "execution_count": 20,
   "metadata": {},
   "outputs": [],
   "source": [
    "# Read data from POST request\n",
    "samples = [\"GTEX-14BIM-0011-R6b-SM-5S2VB\", \"GTEX-14JG1-0526-SM-6LLHW\", \"GTEX-1B97I-1526-SM-73KUK\", \"GTEX-1B97I-1526-SM-73KUK\", \"GTEX-16XZY-0426-SM-793BI\", \"GTEX-1CB4H-0126-SM-7IGN2\"]\n",
    "# samples = request.json['samples']\n",
    "\n",
    "# Read h5 file with data and metadata\n",
    "f = h5py.File('app/static/gtex_counts.h5', 'r')\n",
    "\n",
    "# Get sample indices\n",
    "sample_indices = [index for index, sample in enumerate(f['meta']['sample']['SAMPID']) if sample in samples]\n",
    "\n",
    "# Subset expression data based on sample IDs\n",
    "expression_subset = pd.DataFrame(f['data']['expression'][:, sample_indices], columns=[samples[x] for x in sample_indices], index=f['meta']['gene']['symbol']).rename_axis('gene_symbol')\n"
   ]
  },
  {
   "cell_type": "code",
   "execution_count": 21,
   "metadata": {},
   "outputs": [
    {
     "data": {
      "text/html": [
       "<div>\n",
       "<style scoped>\n",
       "    .dataframe tbody tr th:only-of-type {\n",
       "        vertical-align: middle;\n",
       "    }\n",
       "\n",
       "    .dataframe tbody tr th {\n",
       "        vertical-align: top;\n",
       "    }\n",
       "\n",
       "    .dataframe thead th {\n",
       "        text-align: right;\n",
       "    }\n",
       "</style>\n",
       "<table border=\"1\" class=\"dataframe\">\n",
       "  <thead>\n",
       "    <tr style=\"text-align: right;\">\n",
       "      <th></th>\n",
       "      <th>GTEX-14BIM-0011-R6b-SM-5S2VB</th>\n",
       "      <th>GTEX-14JG1-0526-SM-6LLHW</th>\n",
       "      <th>GTEX-1B97I-1526-SM-73KUK</th>\n",
       "      <th>GTEX-1B97I-1526-SM-73KUK</th>\n",
       "      <th>GTEX-16XZY-0426-SM-793BI</th>\n",
       "    </tr>\n",
       "    <tr>\n",
       "      <th>gene_symbol</th>\n",
       "      <th></th>\n",
       "      <th></th>\n",
       "      <th></th>\n",
       "      <th></th>\n",
       "      <th></th>\n",
       "    </tr>\n",
       "  </thead>\n",
       "  <tbody>\n",
       "    <tr>\n",
       "      <th>A1BG</th>\n",
       "      <td>505</td>\n",
       "      <td>320</td>\n",
       "      <td>127</td>\n",
       "      <td>17</td>\n",
       "      <td>965</td>\n",
       "    </tr>\n",
       "    <tr>\n",
       "      <th>A1CF</th>\n",
       "      <td>1</td>\n",
       "      <td>0</td>\n",
       "      <td>31</td>\n",
       "      <td>0</td>\n",
       "      <td>1</td>\n",
       "    </tr>\n",
       "    <tr>\n",
       "      <th>A2M</th>\n",
       "      <td>3977</td>\n",
       "      <td>149996</td>\n",
       "      <td>54813</td>\n",
       "      <td>47088</td>\n",
       "      <td>63695</td>\n",
       "    </tr>\n",
       "    <tr>\n",
       "      <th>A2ML1</th>\n",
       "      <td>261</td>\n",
       "      <td>38</td>\n",
       "      <td>19</td>\n",
       "      <td>8</td>\n",
       "      <td>14</td>\n",
       "    </tr>\n",
       "    <tr>\n",
       "      <th>A3GALT2</th>\n",
       "      <td>4</td>\n",
       "      <td>9</td>\n",
       "      <td>12</td>\n",
       "      <td>0</td>\n",
       "      <td>8</td>\n",
       "    </tr>\n",
       "  </tbody>\n",
       "</table>\n",
       "</div>"
      ],
      "text/plain": [
       "             GTEX-14BIM-0011-R6b-SM-5S2VB  GTEX-14JG1-0526-SM-6LLHW  \\\n",
       "gene_symbol                                                           \n",
       "A1BG                                  505                       320   \n",
       "A1CF                                    1                         0   \n",
       "A2M                                  3977                    149996   \n",
       "A2ML1                                 261                        38   \n",
       "A3GALT2                                 4                         9   \n",
       "\n",
       "             GTEX-1B97I-1526-SM-73KUK  GTEX-1B97I-1526-SM-73KUK  \\\n",
       "gene_symbol                                                       \n",
       "A1BG                              127                        17   \n",
       "A1CF                               31                         0   \n",
       "A2M                             54813                     47088   \n",
       "A2ML1                              19                         8   \n",
       "A3GALT2                            12                         0   \n",
       "\n",
       "             GTEX-16XZY-0426-SM-793BI  \n",
       "gene_symbol                            \n",
       "A1BG                              965  \n",
       "A1CF                                1  \n",
       "A2M                             63695  \n",
       "A2ML1                              14  \n",
       "A3GALT2                             8  "
      ]
     },
     "execution_count": 21,
     "metadata": {},
     "output_type": "execute_result"
    }
   ],
   "source": [
    "expression_subset.head()"
   ]
  },
  {
   "cell_type": "code",
   "execution_count": 45,
   "metadata": {},
   "outputs": [
    {
     "data": {
      "text/html": [
       "<div>\n",
       "<style scoped>\n",
       "    .dataframe tbody tr th:only-of-type {\n",
       "        vertical-align: middle;\n",
       "    }\n",
       "\n",
       "    .dataframe tbody tr th {\n",
       "        vertical-align: top;\n",
       "    }\n",
       "\n",
       "    .dataframe thead th {\n",
       "        text-align: right;\n",
       "    }\n",
       "</style>\n",
       "<table border=\"1\" class=\"dataframe\">\n",
       "  <thead>\n",
       "    <tr style=\"text-align: right;\">\n",
       "      <th></th>\n",
       "      <th>AGE</th>\n",
       "      <th>SEX</th>\n",
       "      <th>SMTS</th>\n",
       "      <th>SMTSD</th>\n",
       "    </tr>\n",
       "    <tr>\n",
       "      <th>SAMPID</th>\n",
       "      <th></th>\n",
       "      <th></th>\n",
       "      <th></th>\n",
       "      <th></th>\n",
       "    </tr>\n",
       "  </thead>\n",
       "  <tbody>\n",
       "    <tr>\n",
       "      <th>GTEX-14BIM-0011-R6b-SM-5S2VB</th>\n",
       "      <td>60-69</td>\n",
       "      <td>2</td>\n",
       "      <td>Brain</td>\n",
       "      <td>Brain - Nucleus accumbens (basal ganglia)</td>\n",
       "    </tr>\n",
       "    <tr>\n",
       "      <th>GTEX-14JG1-0526-SM-6LLHW</th>\n",
       "      <td>40-49</td>\n",
       "      <td>1</td>\n",
       "      <td>Adipose Tissue</td>\n",
       "      <td>Adipose - Subcutaneous</td>\n",
       "    </tr>\n",
       "    <tr>\n",
       "      <th>GTEX-1B97I-1526-SM-73KUK</th>\n",
       "      <td>40-49</td>\n",
       "      <td>1</td>\n",
       "      <td>Colon</td>\n",
       "      <td>Colon - Sigmoid</td>\n",
       "    </tr>\n",
       "    <tr>\n",
       "      <th>GTEX-16XZY-0426-SM-793BI</th>\n",
       "      <td>70-79</td>\n",
       "      <td>1</td>\n",
       "      <td>Heart</td>\n",
       "      <td>Heart - Left Ventricle</td>\n",
       "    </tr>\n",
       "    <tr>\n",
       "      <th>GTEX-1CB4H-0126-SM-7IGN2</th>\n",
       "      <td>60-69</td>\n",
       "      <td>2</td>\n",
       "      <td>Thyroid</td>\n",
       "      <td>Thyroid</td>\n",
       "    </tr>\n",
       "  </tbody>\n",
       "</table>\n",
       "</div>"
      ],
      "text/plain": [
       "                                AGE SEX            SMTS  \\\n",
       "SAMPID                                                    \n",
       "GTEX-14BIM-0011-R6b-SM-5S2VB  60-69   2           Brain   \n",
       "GTEX-14JG1-0526-SM-6LLHW      40-49   1  Adipose Tissue   \n",
       "GTEX-1B97I-1526-SM-73KUK      40-49   1           Colon   \n",
       "GTEX-16XZY-0426-SM-793BI      70-79   1           Heart   \n",
       "GTEX-1CB4H-0126-SM-7IGN2      60-69   2         Thyroid   \n",
       "\n",
       "                                                                  SMTSD  \n",
       "SAMPID                                                                   \n",
       "GTEX-14BIM-0011-R6b-SM-5S2VB  Brain - Nucleus accumbens (basal ganglia)  \n",
       "GTEX-14JG1-0526-SM-6LLHW                         Adipose - Subcutaneous  \n",
       "GTEX-1B97I-1526-SM-73KUK                                Colon - Sigmoid  \n",
       "GTEX-16XZY-0426-SM-793BI                         Heart - Left Ventricle  \n",
       "GTEX-1CB4H-0126-SM-7IGN2                                        Thyroid  "
      ]
     },
     "execution_count": 45,
     "metadata": {},
     "output_type": "execute_result"
    }
   ],
   "source": [
    "metadata_subset = pd.DataFrame({x: f['meta']['sample'][x][sample_indices] for x in f['meta']['sample'].keys()}).set_index('SAMPID')\n",
    "metadata_subset"
   ]
  },
  {
   "cell_type": "code",
   "execution_count": null,
   "metadata": {
    "collapsed": true
   },
   "outputs": [],
   "source": []
  }
 ],
 "metadata": {
  "kernelspec": {
   "display_name": "Python 3",
   "language": "python",
   "name": "python3"
  },
  "language_info": {
   "codemirror_mode": {
    "name": "ipython",
    "version": 3
   },
   "file_extension": ".py",
   "mimetype": "text/x-python",
   "name": "python",
   "nbconvert_exporter": "python",
   "pygments_lexer": "ipython3",
   "version": "3.6.3"
  }
 },
 "nbformat": 4,
 "nbformat_minor": 2
}
